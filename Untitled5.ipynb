{
  "nbformat": 4,
  "nbformat_minor": 0,
  "metadata": {
    "colab": {
      "name": "Untitled5.ipynb",
      "provenance": [],
      "authorship_tag": "ABX9TyP0k14iKP/2sWeDAe9QBPzd",
      "include_colab_link": true
    },
    "kernelspec": {
      "name": "python3",
      "display_name": "Python 3"
    }
  },
  "cells": [
    {
      "cell_type": "markdown",
      "metadata": {
        "id": "view-in-github",
        "colab_type": "text"
      },
      "source": [
        "<a href=\"https://colab.research.google.com/github/laya2002/assignment-13/blob/master/Untitled5.ipynb\" target=\"_parent\"><img src=\"https://colab.research.google.com/assets/colab-badge.svg\" alt=\"Open In Colab\"/></a>"
      ]
    },
    {
      "cell_type": "code",
      "metadata": {
        "id": "snVjyUIEgTzY",
        "colab_type": "code",
        "colab": {}
      },
      "source": [
        ""
      ],
      "execution_count": null,
      "outputs": []
    },
    {
      "cell_type": "markdown",
      "metadata": {
        "id": "FeJFZyObga6b",
        "colab_type": "text"
      },
      "source": [
        " What is dictionary in Python? Explain with an example"
      ]
    },
    {
      "cell_type": "markdown",
      "metadata": {
        "id": "ipBUNvCSi_7U",
        "colab_type": "text"
      },
      "source": [
        " Python Dictionary are defined into two elements i.e., keys and values 1. keys will be in Single Element 2. Values can be in list or list within a list,numbers etc."
      ]
    },
    {
      "cell_type": "markdown",
      "metadata": {
        "id": "v8V6ulqJjDsh",
        "colab_type": "text"
      },
      "source": [
        " Syntax: dict={'laya':24,jhdsfvy,...}"
      ]
    },
    {
      "cell_type": "code",
      "metadata": {
        "id": "yVsgi3W7jb3z",
        "colab_type": "code",
        "colab": {
          "base_uri": "https://localhost:8080/",
          "height": 151
        },
        "outputId": "9f6c895d-2ebf-4859-aea3-6821cc7bd91f"
      },
      "source": [
        " \n",
        "Python Dictionary are defined into two elements i.e., keys and values 1. keys will be in Single Element 2. Values can be in list or list within a list,numbers etc.\n",
        "Syntax: dict={'laya':24,jhdsfvy,...}"
      ],
      "execution_count": 9,
      "outputs": [
        {
          "output_type": "error",
          "ename": "SyntaxError",
          "evalue": "ignored",
          "traceback": [
            "\u001b[0;36m  File \u001b[0;32m\"<ipython-input-9-c880c91ca325>\"\u001b[0;36m, line \u001b[0;32m2\u001b[0m\n\u001b[0;31m    Python Dictionary are defined into two elements i.e., keys and values 1. keys will be in Single Element 2. Values can be in list or list within a list,numbers etc.\u001b[0m\n\u001b[0m                    ^\u001b[0m\n\u001b[0;31mSyntaxError\u001b[0m\u001b[0;31m:\u001b[0m invalid syntax\n"
          ]
        }
      ]
    },
    {
      "cell_type": "markdown",
      "metadata": {
        "id": "eniI8WRchved",
        "colab_type": "text"
      },
      "source": [
        " Write a Python program to sum all the items in a list."
      ]
    },
    {
      "cell_type": "code",
      "metadata": {
        "id": "C1MaA2o7h1QP",
        "colab_type": "code",
        "colab": {
          "base_uri": "https://localhost:8080/",
          "height": 34
        },
        "outputId": "c795de46-7341-4547-a924-5ad7fe602fe8"
      },
      "source": [
        " def sum_list(items):\n",
        "    sum_numbers = 0\n",
        "    for x in items:\n",
        "        sum_numbers += x\n",
        "    return sum_numbers\n",
        "print(sum_list([5,6,-8]))"
      ],
      "execution_count": 2,
      "outputs": [
        {
          "output_type": "stream",
          "text": [
            "3\n"
          ],
          "name": "stdout"
        }
      ]
    },
    {
      "cell_type": "markdown",
      "metadata": {
        "id": "iAxYh5ADigUO",
        "colab_type": "text"
      },
      "source": [
        " Write a Python program to create a list of empty dictionaries."
      ]
    },
    {
      "cell_type": "code",
      "metadata": {
        "id": "TR9ct-XeijkF",
        "colab_type": "code",
        "colab": {
          "base_uri": "https://localhost:8080/",
          "height": 34
        },
        "outputId": "94302631-daff-4345-9658-51e01e55a282"
      },
      "source": [
        " n = 5\n",
        "l = [{} for _ in range(n)]\n",
        "print(l)"
      ],
      "execution_count": 3,
      "outputs": [
        {
          "output_type": "stream",
          "text": [
            "[{}, {}, {}, {}, {}]\n"
          ],
          "name": "stdout"
        }
      ]
    },
    {
      "cell_type": "markdown",
      "metadata": {
        "id": "UjzQDvvyipiZ",
        "colab_type": "text"
      },
      "source": [
        " Write a Python program to access dictionary keys element by index."
      ]
    },
    {
      "cell_type": "code",
      "metadata": {
        "id": "WHX3c9eOiqQc",
        "colab_type": "code",
        "colab": {
          "base_uri": "https://localhost:8080/",
          "height": 69
        },
        "outputId": "40bbec58-8cd5-4242-98bf-e62721785128"
      },
      "source": [
        " d = {'x': 10, 'y': 20, 'z': 30} \n",
        "for dict_key, dict_value in d.items():\n",
        "    print(dict_key,'->',dict_value)"
      ],
      "execution_count": 4,
      "outputs": [
        {
          "output_type": "stream",
          "text": [
            "x -> 10\n",
            "y -> 20\n",
            "z -> 30\n"
          ],
          "name": "stdout"
        }
      ]
    },
    {
      "cell_type": "markdown",
      "metadata": {
        "id": "5UNVWawpiw5G",
        "colab_type": "text"
      },
      "source": [
        " Write a Python program to sum all the items in a dictionary."
      ]
    },
    {
      "cell_type": "code",
      "metadata": {
        "id": "WHQzi1PjiyQ6",
        "colab_type": "code",
        "colab": {
          "base_uri": "https://localhost:8080/",
          "height": 34
        },
        "outputId": "4cd424a3-7f5d-4926-de23-53d75e745019"
      },
      "source": [
        " my_dict = {'data1':100,'data2':-54,'data3':247}\n",
        "print(sum(my_dict.values()))"
      ],
      "execution_count": 5,
      "outputs": [
        {
          "output_type": "stream",
          "text": [
            "293\n"
          ],
          "name": "stdout"
        }
      ]
    },
    {
      "cell_type": "markdown",
      "metadata": {
        "id": "9p1sGwSGi4Yq",
        "colab_type": "text"
      },
      "source": [
        " Write a Python script to concatenate following dictionaries to create a new one. Sample Dictionary: a. dic1 = {1:10, 2:20} b. dic2 = {3:30, 4:40} c. dic3 = {5:50, 6:60}"
      ]
    },
    {
      "cell_type": "code",
      "metadata": {
        "id": "E7vV5t_Yi4_Z",
        "colab_type": "code",
        "colab": {
          "base_uri": "https://localhost:8080/",
          "height": 54
        },
        "outputId": "1f8c89a8-aaf7-4bb3-9a30-a3aad737a82a"
      },
      "source": [
        " dic1={1:10, 2:20}\n",
        "dic2={3:30, 4:40}\n",
        "dic3={5:50,6:60}\n",
        "dic4 = {}\n",
        "for d in (dic1, dic2, dic3): dic4.update(d)\n",
        "print(dic4)"
      ],
      "execution_count": 6,
      "outputs": [
        {
          "output_type": "stream",
          "text": [
            "{1: 10, 2: 20, 3: 30, 4: 40, 5: 50, 6: 60}\n"
          ],
          "name": "stdout"
        }
      ]
    }
  ]
}